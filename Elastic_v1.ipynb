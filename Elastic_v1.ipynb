{
 "cells": [
  {
   "cell_type": "code",
   "execution_count": 3,
   "metadata": {},
   "outputs": [],
   "source": [
    "#ElasticNet Method\n",
    "#Import Libraries\n",
    "import pandas as pd\n",
    "import numpy as np\n",
    "import matplotlib.pyplot as plt\n",
    "from sklearn.linear_model import ElasticNet, ElasticNetCV\n",
    "from sklearn import datasets\n"
   ]
  },
  {
   "cell_type": "code",
   "execution_count": 4,
   "metadata": {},
   "outputs": [],
   "source": [
    "#Import Data and Extract Features and Dependend Variable\n",
    "train = pd.read_csv(\"./data/cleaned_standardized_fe.csv\")\n",
    "features = train.drop('SalePrice', axis = 1)\n",
    "price = train['SalePrice'] "
   ]
  },
  {
   "cell_type": "code",
   "execution_count": 17,
   "metadata": {},
   "outputs": [
    {
     "name": "stdout",
     "output_type": "stream",
     "text": [
      "the best alpha is: 0.02030\n",
      "the R^2 Score is: 0.91\n"
     ]
    },
    {
     "data": {
      "text/plain": [
       "LotFrontage             -0.092810\n",
       "LotArea                  0.000000\n",
       "MasVnrArea              -0.000000\n",
       "HeatingQC               -0.037002\n",
       "LowQualFinSF            -0.005281\n",
       "GrLivArea               -0.044218\n",
       "FullBath                -0.081153\n",
       "HalfBath                -0.032604\n",
       "BedroomAbvGr            -0.000000\n",
       "TotRmsAbvGrd            -0.025367\n",
       "Functional              -0.043181\n",
       "GarageCars              -0.091560\n",
       "MSZoning_Residential    -0.070631\n",
       "LotShape_Reg             0.000000\n",
       "LandContour_NotLvl       0.000000\n",
       "LotConfig_CulDSac       -0.014776\n",
       "LotConfig_Inside         0.000000\n",
       "LotConfig_Other          0.004154\n",
       "LandSlope_Mod           -0.009358\n",
       "LandSlope_Sev            0.000000\n",
       "Condition1_Norm         -0.046860\n",
       "Condition1_Pos          -0.000000\n",
       "Condition1_RR            0.000000\n",
       "HouseStyle_1.5Unf        0.000000\n",
       "HouseStyle_1Story        0.000000\n",
       "HouseStyle_2.5Fin        0.000000\n",
       "HouseStyle_2.5Unf       -0.000000\n",
       "HouseStyle_2Story        0.000000\n",
       "HouseStyle_SFoyer       -0.000000\n",
       "HouseStyle_SLvl         -0.002770\n",
       "                           ...   \n",
       "SaleType_New            -0.038458\n",
       "SaleType_Oth            -0.000000\n",
       "SaleType_WD              0.000000\n",
       "SaleCondition_Normal    -0.032164\n",
       "SaleCondition_Other      0.000000\n",
       "SaleCondition_Partial   -0.000000\n",
       "Neighborhood_Blueste     0.000000\n",
       "Neighborhood_BrDale      0.005363\n",
       "Neighborhood_BrkSide    -0.000000\n",
       "Neighborhood_ClearCr    -0.012464\n",
       "Neighborhood_CollgCr    -0.000000\n",
       "Neighborhood_Crawfor    -0.043014\n",
       "Neighborhood_Edwards     0.035216\n",
       "Neighborhood_Gilbert     0.000000\n",
       "Neighborhood_IDOTRR      0.016447\n",
       "Neighborhood_MeadowV     0.023666\n",
       "Neighborhood_Mitchel     0.010351\n",
       "Neighborhood_NAmes       0.000000\n",
       "Neighborhood_NPkVill    -0.000000\n",
       "Neighborhood_NWAmes      0.001717\n",
       "Neighborhood_NoRidge    -0.028434\n",
       "Neighborhood_NridgHt    -0.054173\n",
       "Neighborhood_OldTown     0.037944\n",
       "Neighborhood_SWISU      -0.000000\n",
       "Neighborhood_Sawyer      0.000000\n",
       "Neighborhood_SawyerW     0.000000\n",
       "Neighborhood_Somerst    -0.032462\n",
       "Neighborhood_StoneBr    -0.044610\n",
       "Neighborhood_Timber     -0.002140\n",
       "Neighborhood_Veenker    -0.005857\n",
       "Length: 122, dtype: float64"
      ]
     },
     "execution_count": 17,
     "metadata": {},
     "output_type": "execute_result"
    }
   ],
   "source": [
    "#Cross Validate Lasso Model to Select Best alpha\n",
    "alphas = np.linspace(.0001, 1, 100)\n",
    "\n",
    "elastic_cv = ElasticNetCV(alphas = alphas, cv = 10, max_iter = 10000, normalize = False, l1_ratio = .5,)\n",
    "elastic_cv.fit(features,price)\n",
    "print('the best alpha is: %.5f' %(elastic_cv.alpha_))\n",
    "\n",
    "#Fit Model on complete test set using best alpha and get R^2 score and print coeficients\n",
    "elastic = ElasticNet()\n",
    "elastic.set_params(normalize=False)\n",
    "elastic = ElasticNet(alpha = elastic_cv.alpha_)\n",
    "elastic.fit(features, price)\n",
    "print('the R^2 Score is: %.2f' %(elastic.score(features, price)))\n",
    "pd.Series(elastic.coef_, index=features.columns)"
   ]
  },
  {
   "cell_type": "code",
   "execution_count": 18,
   "metadata": {},
   "outputs": [
    {
     "data": {
      "text/html": [
       "<div>\n",
       "<style scoped>\n",
       "    .dataframe tbody tr th:only-of-type {\n",
       "        vertical-align: middle;\n",
       "    }\n",
       "\n",
       "    .dataframe tbody tr th {\n",
       "        vertical-align: top;\n",
       "    }\n",
       "\n",
       "    .dataframe thead th {\n",
       "        text-align: right;\n",
       "    }\n",
       "</style>\n",
       "<table border=\"1\" class=\"dataframe\">\n",
       "  <thead>\n",
       "    <tr style=\"text-align: right;\">\n",
       "      <th></th>\n",
       "      <th>Id</th>\n",
       "      <th>SalePrice</th>\n",
       "    </tr>\n",
       "  </thead>\n",
       "  <tbody>\n",
       "    <tr>\n",
       "      <th>0</th>\n",
       "      <td>1461</td>\n",
       "      <td>0.791008</td>\n",
       "    </tr>\n",
       "    <tr>\n",
       "      <th>1</th>\n",
       "      <td>1462</td>\n",
       "      <td>0.105242</td>\n",
       "    </tr>\n",
       "    <tr>\n",
       "      <th>2</th>\n",
       "      <td>1463</td>\n",
       "      <td>-0.326387</td>\n",
       "    </tr>\n",
       "    <tr>\n",
       "      <th>3</th>\n",
       "      <td>1464</td>\n",
       "      <td>-0.605935</td>\n",
       "    </tr>\n",
       "    <tr>\n",
       "      <th>4</th>\n",
       "      <td>1465</td>\n",
       "      <td>-0.591971</td>\n",
       "    </tr>\n",
       "  </tbody>\n",
       "</table>\n",
       "</div>"
      ],
      "text/plain": [
       "     Id  SalePrice\n",
       "0  1461   0.791008\n",
       "1  1462   0.105242\n",
       "2  1463  -0.326387\n",
       "3  1464  -0.605935\n",
       "4  1465  -0.591971"
      ]
     },
     "execution_count": 18,
     "metadata": {},
     "output_type": "execute_result"
    }
   ],
   "source": [
    "test = pd.read_csv(\"./data/cleaned_standardized_TEST.csv\")\n",
    "train_pre_stand = pd.read_csv(\"./data/train.csv\")\n",
    "submission = pd.read_csv(\"./data/sample_submission.csv\")\n",
    "sale_price_pred = elastic.predict(test)\n",
    "submission['SalePrice'] = sale_price_pred\n",
    "submission.head()"
   ]
  },
  {
   "cell_type": "code",
   "execution_count": 19,
   "metadata": {},
   "outputs": [],
   "source": [
    "#inverse transform\n",
    "from sklearn.preprocessing import StandardScaler\n",
    "#Re-Train Scaler\n",
    "scaler = StandardScaler()\n",
    "scaler = scaler.fit(train_pre_stand[['SalePrice']]**-.1)\n",
    "\n",
    "\n",
    "# inverse transform on transformed price\n",
    "submission['SalePrice'] = (scaler.inverse_transform(submission['SalePrice'])**-10).round(0)\n",
    "submission.to_csv(\"./data/elastic_submission.csv\",index = False)"
   ]
  },
  {
   "cell_type": "code",
   "execution_count": 20,
   "metadata": {},
   "outputs": [
    {
     "data": {
      "text/plain": [
       "0    121251.0\n",
       "1    158613.0\n",
       "2    188539.0\n",
       "3    211212.0\n",
       "4    210011.0\n",
       "Name: SalePrice, dtype: float64"
      ]
     },
     "execution_count": 20,
     "metadata": {},
     "output_type": "execute_result"
    }
   ],
   "source": [
    "submission['SalePrice'].head()"
   ]
  }
 ],
 "metadata": {
  "kernelspec": {
   "display_name": "Python 3",
   "language": "python",
   "name": "python3"
  },
  "language_info": {
   "codemirror_mode": {
    "name": "ipython",
    "version": 3
   },
   "file_extension": ".py",
   "mimetype": "text/x-python",
   "name": "python",
   "nbconvert_exporter": "python",
   "pygments_lexer": "ipython3",
   "version": "3.7.2"
  }
 },
 "nbformat": 4,
 "nbformat_minor": 2
}
