{
 "cells": [
  {
   "cell_type": "code",
   "execution_count": 28,
   "metadata": {},
   "outputs": [],
   "source": [
    "#ElasticNet Method\n",
    "#Import Libraries\n",
    "import pandas as pd\n",
    "import numpy as np\n",
    "import matplotlib.pyplot as plt\n",
    "from sklearn.linear_model import ElasticNet, ElasticNetCV\n",
    "from sklearn import datasets\n"
   ]
  },
  {
   "cell_type": "code",
   "execution_count": 29,
   "metadata": {},
   "outputs": [],
   "source": [
    "#Import Data and Extract Features and Dependend Variable\n",
    "train = pd.read_csv(\"./data/cleaned_standardized_fe.csv\")\n",
    "features = train.drop('SalePrice', axis = 1)\n",
    "price = train['SalePrice'] "
   ]
  },
  {
   "cell_type": "code",
   "execution_count": 30,
   "metadata": {},
   "outputs": [
    {
     "name": "stdout",
     "output_type": "stream",
     "text": [
      "the best alpha is: 0.07702\n",
      "the best rho is: 0.11241\n"
     ]
    }
   ],
   "source": [
    "#Cross Validate Elastic Model to Select Best alpha and rho\n",
    "\n",
    "\n",
    "alphas = np.linspace(.0001, 1, 40)\n",
    "rhos = np.linspace(0.01, 1, 30)\n",
    "elastic_cv = ElasticNetCV(alphas = alphas, cv = 10, max_iter = 10000, normalize = False, l1_ratio = rhos)\n",
    "elastic_cv.fit(features,price)\n",
    "print('the best alpha is: %.5f' %(elastic_cv.alpha_))\n",
    "print('the best rho is: %.5f' %(elastic_cv.l1_ratio_))\n"
   ]
  },
  {
   "cell_type": "code",
   "execution_count": 31,
   "metadata": {},
   "outputs": [
    {
     "name": "stdout",
     "output_type": "stream",
     "text": [
      "the R^2 Score is: 0.91\n"
     ]
    },
    {
     "data": {
      "text/plain": [
       "LotFrontage             -0.085803\n",
       "LotArea                  0.000000\n",
       "MasVnrArea              -0.000000\n",
       "HeatingQC               -0.037574\n",
       "LowQualFinSF            -0.002751\n",
       "GrLivArea               -0.073816\n",
       "FullBath                -0.077453\n",
       "HalfBath                -0.029400\n",
       "BedroomAbvGr            -0.000000\n",
       "TotRmsAbvGrd            -0.035103\n",
       "Functional              -0.043965\n",
       "GarageCars              -0.085143\n",
       "MSZoning_Residential    -0.068888\n",
       "LotShape_Reg             0.000000\n",
       "LandContour_NotLvl       0.000000\n",
       "LotConfig_CulDSac       -0.016760\n",
       "LotConfig_Inside         0.000000\n",
       "LotConfig_Other          0.006069\n",
       "LandSlope_Mod           -0.010809\n",
       "LandSlope_Sev            0.000000\n",
       "Condition1_Norm         -0.046572\n",
       "Condition1_Pos          -0.000000\n",
       "Condition1_RR            0.000000\n",
       "HouseStyle_1.5Unf        0.000000\n",
       "HouseStyle_1Story        0.000000\n",
       "HouseStyle_2.5Fin        0.000000\n",
       "HouseStyle_2.5Unf       -0.000000\n",
       "HouseStyle_2Story        0.000000\n",
       "HouseStyle_SFoyer       -0.000000\n",
       "HouseStyle_SLvl         -0.002948\n",
       "                           ...   \n",
       "SaleType_New            -0.027647\n",
       "SaleType_Oth            -0.000000\n",
       "SaleType_WD              0.000000\n",
       "SaleCondition_Normal    -0.031713\n",
       "SaleCondition_Other      0.000000\n",
       "SaleCondition_Partial   -0.013140\n",
       "Neighborhood_Blueste     0.000000\n",
       "Neighborhood_BrDale      0.008284\n",
       "Neighborhood_BrkSide    -0.000000\n",
       "Neighborhood_ClearCr    -0.014253\n",
       "Neighborhood_CollgCr    -0.000000\n",
       "Neighborhood_Crawfor    -0.042292\n",
       "Neighborhood_Edwards     0.037676\n",
       "Neighborhood_Gilbert     0.000000\n",
       "Neighborhood_IDOTRR      0.020363\n",
       "Neighborhood_MeadowV     0.028889\n",
       "Neighborhood_Mitchel     0.010393\n",
       "Neighborhood_NAmes       0.000000\n",
       "Neighborhood_NPkVill    -0.000000\n",
       "Neighborhood_NWAmes      0.000000\n",
       "Neighborhood_NoRidge    -0.030354\n",
       "Neighborhood_NridgHt    -0.055144\n",
       "Neighborhood_OldTown     0.041607\n",
       "Neighborhood_SWISU       0.000000\n",
       "Neighborhood_Sawyer      0.001781\n",
       "Neighborhood_SawyerW     0.000000\n",
       "Neighborhood_Somerst    -0.033451\n",
       "Neighborhood_StoneBr    -0.044718\n",
       "Neighborhood_Timber     -0.005640\n",
       "Neighborhood_Veenker    -0.008121\n",
       "Length: 122, dtype: float64"
      ]
     },
     "execution_count": 31,
     "metadata": {},
     "output_type": "execute_result"
    }
   ],
   "source": [
    "#Fit Model on complete test set using best alpha and l1_ratio and get R^2 score and print coeficients\n",
    "elastic = ElasticNet()\n",
    "elastic.set_params(normalize=False)\n",
    "elastic = ElasticNet(alpha = elastic_cv.alpha_, l1_ratio = elastic_cv.l1_ratio_)\n",
    "elastic.fit(features, price)\n",
    "print('the R^2 Score is: %.2f' %(elastic.score(features, price)))\n",
    "pd.Series(elastic.coef_, index=features.columns)"
   ]
  },
  {
   "cell_type": "code",
   "execution_count": 32,
   "metadata": {},
   "outputs": [
    {
     "data": {
      "text/html": [
       "<div>\n",
       "<style scoped>\n",
       "    .dataframe tbody tr th:only-of-type {\n",
       "        vertical-align: middle;\n",
       "    }\n",
       "\n",
       "    .dataframe tbody tr th {\n",
       "        vertical-align: top;\n",
       "    }\n",
       "\n",
       "    .dataframe thead th {\n",
       "        text-align: right;\n",
       "    }\n",
       "</style>\n",
       "<table border=\"1\" class=\"dataframe\">\n",
       "  <thead>\n",
       "    <tr style=\"text-align: right;\">\n",
       "      <th></th>\n",
       "      <th>Id</th>\n",
       "      <th>SalePrice</th>\n",
       "    </tr>\n",
       "  </thead>\n",
       "  <tbody>\n",
       "    <tr>\n",
       "      <th>0</th>\n",
       "      <td>1461</td>\n",
       "      <td>0.786792</td>\n",
       "    </tr>\n",
       "    <tr>\n",
       "      <th>1</th>\n",
       "      <td>1462</td>\n",
       "      <td>0.150369</td>\n",
       "    </tr>\n",
       "    <tr>\n",
       "      <th>2</th>\n",
       "      <td>1463</td>\n",
       "      <td>-0.322161</td>\n",
       "    </tr>\n",
       "    <tr>\n",
       "      <th>3</th>\n",
       "      <td>1464</td>\n",
       "      <td>-0.583861</td>\n",
       "    </tr>\n",
       "    <tr>\n",
       "      <th>4</th>\n",
       "      <td>1465</td>\n",
       "      <td>-0.551040</td>\n",
       "    </tr>\n",
       "  </tbody>\n",
       "</table>\n",
       "</div>"
      ],
      "text/plain": [
       "     Id  SalePrice\n",
       "0  1461   0.786792\n",
       "1  1462   0.150369\n",
       "2  1463  -0.322161\n",
       "3  1464  -0.583861\n",
       "4  1465  -0.551040"
      ]
     },
     "execution_count": 32,
     "metadata": {},
     "output_type": "execute_result"
    }
   ],
   "source": [
    "test = pd.read_csv(\"./data/cleaned_standardized_TEST.csv\")\n",
    "train_pre_stand = pd.read_csv(\"./data/train.csv\")\n",
    "submission = pd.read_csv(\"./data/sample_submission.csv\")\n",
    "sale_price_pred = elastic.predict(test)\n",
    "submission['SalePrice'] = sale_price_pred\n",
    "submission.head()"
   ]
  },
  {
   "cell_type": "code",
   "execution_count": 33,
   "metadata": {},
   "outputs": [],
   "source": [
    "#inverse transform\n",
    "from sklearn.preprocessing import StandardScaler\n",
    "#Re-Train Scaler\n",
    "scaler = StandardScaler()\n",
    "scaler = scaler.fit(train_pre_stand[['SalePrice']]**-.1) \n",
    "\n",
    "\n",
    "# inverse transform on transformed price\n",
    "submission['SalePrice'] = (scaler.inverse_transform(submission['SalePrice'])**-10).round(0)\n",
    "submission.to_csv(\"./data/elastic_submission.csv\",index = False)"
   ]
  },
  {
   "cell_type": "code",
   "execution_count": 34,
   "metadata": {},
   "outputs": [
    {
     "data": {
      "text/plain": [
       "0    121449.0\n",
       "1    155799.0\n",
       "2    188218.0\n",
       "3    209317.0\n",
       "4    206533.0\n",
       "Name: SalePrice, dtype: float64"
      ]
     },
     "execution_count": 34,
     "metadata": {},
     "output_type": "execute_result"
    }
   ],
   "source": [
    "submission['SalePrice'].head()"
   ]
  }
 ],
 "metadata": {
  "kernelspec": {
   "display_name": "Python 3",
   "language": "python",
   "name": "python3"
  },
  "language_info": {
   "codemirror_mode": {
    "name": "ipython",
    "version": 3
   },
   "file_extension": ".py",
   "mimetype": "text/x-python",
   "name": "python",
   "nbconvert_exporter": "python",
   "pygments_lexer": "ipython3",
   "version": "3.7.2"
  }
 },
 "nbformat": 4,
 "nbformat_minor": 2
}
