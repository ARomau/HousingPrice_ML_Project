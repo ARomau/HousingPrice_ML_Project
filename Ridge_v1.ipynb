{
 "cells": [
  {
   "cell_type": "code",
   "execution_count": 24,
   "metadata": {},
   "outputs": [],
   "source": [
    "#Ridge Method\n",
    "#Import Libraries\n",
    "import pandas as pd\n",
    "import numpy as np\n",
    "import matplotlib.pyplot as plt\n",
    "from sklearn.linear_model import LinearRegression, Elastic, ElasticCV\n",
    "from sklearn import datasets\n"
   ]
  },
  {
   "cell_type": "code",
   "execution_count": 25,
   "metadata": {},
   "outputs": [],
   "source": [
    "#Import Data and Extract Features and Dependend Variable\n",
    "train = pd.read_csv(\"./data/cleaned_standardized_fe.csv\")\n",
    "features = train.drop('SalePrice', axis = 1)\n",
    "price = train['SalePrice'] "
   ]
  },
  {
   "cell_type": "code",
   "execution_count": 26,
   "metadata": {},
   "outputs": [
    {
     "name": "stdout",
     "output_type": "stream",
     "text": [
      "the best alpha is: 161.70\n",
      "the R^2 Score is: 0.91\n"
     ]
    }
   ],
   "source": [
    "#Cross Validate Ridge Model to Select Best alpha\n",
    "alphas = np.linspace(.1, 1000, 100)\n",
    "ridge_cv = RidgeCV(alphas = alphas, cv = 10, normalize = False)\n",
    "ridge_cv.fit(features,price)\n",
    "print('the best alpha is: %.2f' %(ridge_cv.alpha_))\n",
    "\n",
    "#Fit Model on complete test set using best alpha and get R^2 score and print coeficients\n",
    "ridge = Ridge()\n",
    "ridge.set_params(normalize=False)\n",
    "ridge = Ridge(alpha = ridge_cv.alpha_)\n",
    "ridge.fit(features, price)\n",
    "print('the R^2 Score is: %.2f' %(ridge.score(features, price)))\n",
    "#pd.Series(ridge.coef_, index=features.columns)"
   ]
  },
  {
   "cell_type": "code",
   "execution_count": 27,
   "metadata": {},
   "outputs": [
    {
     "data": {
      "text/html": [
       "<div>\n",
       "<style scoped>\n",
       "    .dataframe tbody tr th:only-of-type {\n",
       "        vertical-align: middle;\n",
       "    }\n",
       "\n",
       "    .dataframe tbody tr th {\n",
       "        vertical-align: top;\n",
       "    }\n",
       "\n",
       "    .dataframe thead th {\n",
       "        text-align: right;\n",
       "    }\n",
       "</style>\n",
       "<table border=\"1\" class=\"dataframe\">\n",
       "  <thead>\n",
       "    <tr style=\"text-align: right;\">\n",
       "      <th></th>\n",
       "      <th>Id</th>\n",
       "      <th>SalePrice</th>\n",
       "    </tr>\n",
       "  </thead>\n",
       "  <tbody>\n",
       "    <tr>\n",
       "      <th>0</th>\n",
       "      <td>1461</td>\n",
       "      <td>0.801217</td>\n",
       "    </tr>\n",
       "    <tr>\n",
       "      <th>1</th>\n",
       "      <td>1462</td>\n",
       "      <td>0.101145</td>\n",
       "    </tr>\n",
       "    <tr>\n",
       "      <th>2</th>\n",
       "      <td>1463</td>\n",
       "      <td>-0.275123</td>\n",
       "    </tr>\n",
       "    <tr>\n",
       "      <th>3</th>\n",
       "      <td>1464</td>\n",
       "      <td>-0.570279</td>\n",
       "    </tr>\n",
       "    <tr>\n",
       "      <th>4</th>\n",
       "      <td>1465</td>\n",
       "      <td>-0.482091</td>\n",
       "    </tr>\n",
       "  </tbody>\n",
       "</table>\n",
       "</div>"
      ],
      "text/plain": [
       "     Id  SalePrice\n",
       "0  1461   0.801217\n",
       "1  1462   0.101145\n",
       "2  1463  -0.275123\n",
       "3  1464  -0.570279\n",
       "4  1465  -0.482091"
      ]
     },
     "execution_count": 27,
     "metadata": {},
     "output_type": "execute_result"
    }
   ],
   "source": [
    "test = pd.read_csv(\"./data/cleaned_standardized_TEST.csv\")\n",
    "train_pre_stand = pd.read_csv(\"./data/train.csv\")\n",
    "submission = pd.read_csv(\"./data/sample_submission.csv\")\n",
    "sale_price_pred = ridge.predict(test)\n",
    "submission['SalePrice'] = sale_price_pred\n",
    "submission.head()"
   ]
  },
  {
   "cell_type": "code",
   "execution_count": 28,
   "metadata": {},
   "outputs": [],
   "source": [
    "#inverse transform\n",
    "from sklearn.preprocessing import StandardScaler\n",
    "#Re-Train Scaler\n",
    "scaler = StandardScaler()\n",
    "scaler = scaler.fit(train_pre_stand[['SalePrice']]**-.1)\n",
    "\n",
    "\n",
    "# inverse transform on transformed price\n",
    "submission['SalePrice'] = (scaler.inverse_transform(submission['SalePrice'])**-10).round(0)\n",
    "submission.to_csv(\"./data/ridge_submission.csv\",index = False)"
   ]
  },
  {
   "cell_type": "code",
   "execution_count": 29,
   "metadata": {},
   "outputs": [
    {
     "data": {
      "text/plain": [
       "0    120774.0\n",
       "1    158871.0\n",
       "2    184679.0\n",
       "3    208160.0\n",
       "4    200817.0\n",
       "Name: SalePrice, dtype: float64"
      ]
     },
     "execution_count": 29,
     "metadata": {},
     "output_type": "execute_result"
    }
   ],
   "source": [
    "submission['SalePrice'].head()"
   ]
  },
  {
   "cell_type": "code",
   "execution_count": 30,
   "metadata": {},
   "outputs": [
    {
     "data": {
      "text/plain": [
       "<matplotlib.axes._subplots.AxesSubplot at 0x2fbada682b0>"
      ]
     },
     "execution_count": 30,
     "metadata": {},
     "output_type": "execute_result"
    },
    {
     "data": {
      "image/png": "[encoded data removed]",
      "text/plain": [
       "<Figure size 432x288 with 1 Axes>"
      ]
     },
     "metadata": {
      "needs_background": "light"
     },
     "output_type": "display_data"
    }
   ],
   "source": [
    "submission['SalePrice'].hist()"
   ]
  },
  {
   "cell_type": "code",
   "execution_count": 31,
   "metadata": {},
   "outputs": [
    {
     "data": {
      "text/plain": [
       "array([-0.08456505,  0.00426403, -0.00282362, -0.03923123, -0.01797394,\n",
       "       -0.08099968, -0.07749651, -0.0390009 , -0.00962047, -0.04408267,\n",
       "       -0.04988436, -0.07635859, -0.07429303, -0.00241774,  0.00985534,\n",
       "       -0.01954168,  0.00931724,  0.01867922, -0.02340767,  0.00429152,\n",
       "       -0.0564036 , -0.00874853, -0.00673082,  0.0037055 ,  0.00822833,\n",
       "        0.01106227, -0.01034466,  0.01649595, -0.00754394, -0.01062801,\n",
       "       -0.16302926,  0.07604578,  0.04609267, -0.01937462, -0.01228426,\n",
       "        0.00446403,  0.00795944,  0.02061369,  0.00255584,  0.02493555,\n",
       "        0.01045349,  0.0342937 , -0.00382264, -0.0082037 ,  0.00649909,\n",
       "        0.00289544, -0.0021568 , -0.00176519,  0.00480185, -0.01017917,\n",
       "        0.00347075,  0.00102515, -0.01005606, -0.00904367, -0.01350491,\n",
       "       -0.00302468, -0.05181087, -0.03288529, -0.01269174, -0.04966139,\n",
       "        0.0034347 , -0.18470979, -0.00216888, -0.0608992 ,  0.01899338,\n",
       "        0.01627538,  0.01643221,  0.00223417,  0.01627538,  0.01203925,\n",
       "        0.03115487, -0.04449931, -0.02346074, -0.04783032,  0.00935957,\n",
       "        0.00706091, -0.00043918,  0.00197414, -0.01013129, -0.01662295,\n",
       "       -0.01172894, -0.00918177, -0.00665793, -0.00446429, -0.00133521,\n",
       "        0.00316755, -0.00232876,  0.00630132,  0.00480904,  0.01303663,\n",
       "        0.00082373, -0.01164571, -0.02948169, -0.00713103,  0.00633585,\n",
       "       -0.04903082, -0.00507904, -0.02241379,  0.0063026 ,  0.01649879,\n",
       "       -0.00078085, -0.01965088, -0.00743341, -0.04716184,  0.05148588,\n",
       "        0.00903602,  0.0299495 ,  0.04514544,  0.02193565,  0.01631083,\n",
       "       -0.00281865,  0.01077651, -0.04010831, -0.06325779,  0.05474665,\n",
       "        0.00157565,  0.01745772, -0.00021384, -0.04239115, -0.05194034,\n",
       "       -0.01381383, -0.01498089])"
      ]
     },
     "execution_count": 31,
     "metadata": {},
     "output_type": "execute_result"
    }
   ],
   "source": [
    "ridge.coef_"
   ]
  },
  {
   "cell_type": "code",
   "execution_count": 38,
   "metadata": {},
   "outputs": [],
   "source": [
    "coef_mask = [True if abs(x) > .01 else False for x in ridge.coef_]"
   ]
  }
 ],
 "metadata": {
  "kernelspec": {
   "display_name": "Python 3",
   "language": "python",
   "name": "python3"
  },
  "language_info": {
   "codemirror_mode": {
    "name": "ipython",
    "version": 3
   },
   "file_extension": ".py",
   "mimetype": "text/x-python",
   "name": "python",
   "nbconvert_exporter": "python",
   "pygments_lexer": "ipython3",
   "version": "3.7.2"
  }
 },
 "nbformat": 4,
 "nbformat_minor": 2
}
