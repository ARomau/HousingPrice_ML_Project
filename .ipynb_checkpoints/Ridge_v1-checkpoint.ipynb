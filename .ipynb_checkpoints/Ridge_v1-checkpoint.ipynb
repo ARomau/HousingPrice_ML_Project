{
 "cells": [
  {
   "cell_type": "code",
   "execution_count": 86,
   "metadata": {},
   "outputs": [],
   "source": [
    "#Ridge Method\n",
    "#Import Libraries\n",
    "import pandas as pd\n",
    "import numpy as np\n",
    "import matplotlib.pyplot as plt\n",
    "from sklearn.linear_model import LinearRegression, Ridge, RidgeCV\n",
    "from sklearn import datasets\n",
    " "
   ]
  },
  {
   "cell_type": "code",
   "execution_count": 87,
   "metadata": {},
   "outputs": [],
   "source": [
    "#Import Data and Extract Features and Dependend Variable\n",
    "train = pd.read_csv(\"./data/cleaned_standardized_fe.csv\")\n",
    "features = train.drop('SalePrice', axis = 1)\n",
    "price = train['SalePrice'] "
   ]
  },
  {
   "cell_type": "code",
   "execution_count": 88,
   "metadata": {},
   "outputs": [
    {
     "name": "stdout",
     "output_type": "stream",
     "text": [
      "the best alpha is: 152.46\n",
      "the R^2 Score is: 0.91\n"
     ]
    }
   ],
   "source": [
    "#Cross Validate Ridge Model to Select Best alpha\n",
    "alphas = np.linspace(1, 3000, 100)\n",
    "ridge_cv = RidgeCV(alphas = alphas, cv = 10, normalize = False)\n",
    "ridge_cv.fit(features,price)\n",
    "print('the best alpha is: %.2f' %(ridge_cv.alpha_))\n",
    "\n",
    "#Fit Model on complete test set using best alpha and get R^2 score and print coeficients\n",
    "ridge = Ridge()\n",
    "ridge.set_params(normalize=False)\n",
    "ridge = Ridge(alpha = ridge_cv.alpha_)\n",
    "ridge.fit(features, price)\n",
    "print('the R^2 Score is: %.2f' %(ridge.score(features, price)))\n",
    "#pd.Series(ridge.coef_, index=features.columns)"
   ]
  },
  {
   "cell_type": "code",
   "execution_count": 89,
   "metadata": {},
   "outputs": [
    {
     "data": {
      "text/html": [
       "<div>\n",
       "<style scoped>\n",
       "    .dataframe tbody tr th:only-of-type {\n",
       "        vertical-align: middle;\n",
       "    }\n",
       "\n",
       "    .dataframe tbody tr th {\n",
       "        vertical-align: top;\n",
       "    }\n",
       "\n",
       "    .dataframe thead th {\n",
       "        text-align: right;\n",
       "    }\n",
       "</style>\n",
       "<table border=\"1\" class=\"dataframe\">\n",
       "  <thead>\n",
       "    <tr style=\"text-align: right;\">\n",
       "      <th></th>\n",
       "      <th>Id</th>\n",
       "      <th>SalePrice</th>\n",
       "    </tr>\n",
       "  </thead>\n",
       "  <tbody>\n",
       "    <tr>\n",
       "      <th>0</th>\n",
       "      <td>1461</td>\n",
       "      <td>0.802377</td>\n",
       "    </tr>\n",
       "    <tr>\n",
       "      <th>1</th>\n",
       "      <td>1462</td>\n",
       "      <td>0.099072</td>\n",
       "    </tr>\n",
       "    <tr>\n",
       "      <th>2</th>\n",
       "      <td>1463</td>\n",
       "      <td>-0.275144</td>\n",
       "    </tr>\n",
       "    <tr>\n",
       "      <th>3</th>\n",
       "      <td>1464</td>\n",
       "      <td>-0.571154</td>\n",
       "    </tr>\n",
       "    <tr>\n",
       "      <th>4</th>\n",
       "      <td>1465</td>\n",
       "      <td>-0.483607</td>\n",
       "    </tr>\n",
       "  </tbody>\n",
       "</table>\n",
       "</div>"
      ],
      "text/plain": [
       "     Id  SalePrice\n",
       "0  1461   0.802377\n",
       "1  1462   0.099072\n",
       "2  1463  -0.275144\n",
       "3  1464  -0.571154\n",
       "4  1465  -0.483607"
      ]
     },
     "execution_count": 89,
     "metadata": {},
     "output_type": "execute_result"
    }
   ],
   "source": [
    "test = pd.read_csv(\"./data/cleaned_standardized_TEST.csv\")\n",
    "train_pre_stand = pd.read_csv(\"./data/train.csv\")\n",
    "submission = pd.read_csv(\"./data/sample_submission.csv\")\n",
    "sale_price_pred = ridge.predict(test)\n",
    "submission['SalePrice'] = sale_price_pred\n",
    "submission.head()"
   ]
  },
  {
   "cell_type": "code",
   "execution_count": 90,
   "metadata": {},
   "outputs": [],
   "source": [
    "#inverse transform\n",
    "from sklearn.preprocessing import StandardScaler\n",
    "#Re-Train Scaler\n",
    "scaler = StandardScaler()\n",
    "scaler = scaler.fit(train_pre_stand[['SalePrice']]**-.1)\n",
    "\n",
    "\n",
    "# inverse transform on transformed price\n",
    "submission['SalePrice'] = (scaler.inverse_transform(submission['SalePrice'])**-10).round(0)\n",
    "submission.to_csv(\"./data/ridge_submission.csv\",index = False)"
   ]
  },
  {
   "cell_type": "code",
   "execution_count": 91,
   "metadata": {},
   "outputs": [
    {
     "data": {
      "text/plain": [
       "0    120719.0\n",
       "1    159002.0\n",
       "2    184681.0\n",
       "3    208234.0\n",
       "4    200941.0\n",
       "Name: SalePrice, dtype: float64"
      ]
     },
     "execution_count": 91,
     "metadata": {},
     "output_type": "execute_result"
    }
   ],
   "source": [
    "submission['SalePrice'].head()"
   ]
  },
  {
   "cell_type": "code",
   "execution_count": 92,
   "metadata": {},
   "outputs": [
    {
     "data": {
      "text/plain": [
       "<matplotlib.axes._subplots.AxesSubplot at 0x2fbb001f5c0>"
      ]
     },
     "execution_count": 92,
     "metadata": {},
     "output_type": "execute_result"
    },
    {
     "data": {
      "image/png": "[encoded data removed]",
      "text/plain": [
       "<Figure size 432x288 with 1 Axes>"
      ]
     },
     "metadata": {
      "needs_background": "light"
     },
     "output_type": "display_data"
    }
   ],
   "source": [
    "submission['SalePrice'].hist()"
   ]
  },
  {
   "cell_type": "code",
   "execution_count": 93,
   "metadata": {},
   "outputs": [
    {
     "data": {
      "text/plain": [
       "array([-8.55367709e-02,  5.04465772e-03, -2.41812292e-03, -3.92659060e-02,\n",
       "       -1.83525886e-02, -8.02395397e-02, -7.78863537e-02, -3.93053469e-02,\n",
       "       -9.24260646e-03, -4.36780251e-02, -5.02224548e-02, -7.66930237e-02,\n",
       "       -7.46810773e-02, -2.80570682e-03,  9.99853111e-03, -1.95702620e-02,\n",
       "        9.42062787e-03,  1.88153022e-02, -2.35662346e-02,  4.13600662e-03,\n",
       "       -5.68264834e-02, -8.85055150e-03, -6.96077243e-03,  3.77825087e-03,\n",
       "        8.51368733e-03,  1.12658855e-02, -1.03768017e-02,  1.68396311e-02,\n",
       "       -7.67643895e-03, -1.07827165e-02, -1.64177905e-01,  7.68358508e-02,\n",
       "        4.58971450e-02, -1.93160781e-02, -1.23354049e-02,  4.64723118e-03,\n",
       "        8.61931266e-03,  2.13148840e-02,  2.81169257e-03,  2.53829220e-02,\n",
       "        1.13069114e-02,  3.52947167e-02, -3.60653954e-03, -8.44176890e-03,\n",
       "        6.43434699e-03,  3.06828515e-03, -2.41244644e-03, -1.74952954e-03,\n",
       "        4.68545116e-03, -1.05029665e-02,  3.53558126e-03,  8.77056777e-04,\n",
       "       -9.98634485e-03, -8.27215227e-03, -1.45395340e-02, -3.70065978e-03,\n",
       "       -5.25094630e-02, -3.23741455e-02, -1.28727949e-02, -4.97291414e-02,\n",
       "        3.69587615e-03, -1.87199945e-01, -1.79255916e-03, -6.05924861e-02,\n",
       "        1.85361583e-02,  1.59968582e-02,  1.63905199e-02,  1.68449302e-03,\n",
       "        1.59968582e-02,  1.24281428e-02,  3.12653831e-02, -4.41018525e-02,\n",
       "       -2.32765501e-02, -4.78615245e-02,  9.40104511e-03,  6.98800103e-03,\n",
       "       -6.16352612e-04,  1.87435402e-03, -1.04109348e-02, -1.70364249e-02,\n",
       "       -1.20927687e-02, -9.48017467e-03, -6.87107255e-03, -4.57544240e-03,\n",
       "       -1.45505632e-03,  2.99485370e-03, -2.47017699e-03,  6.45790289e-03,\n",
       "        4.86737846e-03,  1.31700723e-02,  9.50756458e-04, -1.18114904e-02,\n",
       "       -2.98570252e-02, -7.26745486e-03,  6.36429691e-03, -4.97135672e-02,\n",
       "       -5.45262216e-03, -2.23987667e-02,  6.31201632e-03,  1.63501275e-02,\n",
       "       -8.04095530e-04, -1.96097788e-02, -7.51163131e-03, -4.72178649e-02,\n",
       "        5.18086855e-02,  9.07230152e-03,  2.99904152e-02,  4.51173771e-02,\n",
       "        2.22207854e-02,  1.65938979e-02, -2.88142879e-03,  1.10919919e-02,\n",
       "       -4.02453876e-02, -6.36521463e-02,  5.50281540e-02,  1.59252541e-03,\n",
       "        1.75617630e-02, -1.71213801e-04, -4.26967502e-02, -5.22108063e-02,\n",
       "       -1.38337674e-02, -1.49558107e-02])"
      ]
     },
     "execution_count": 93,
     "metadata": {},
     "output_type": "execute_result"
    }
   ],
   "source": [
    "ridge.coef_"
   ]
  },
  {
   "cell_type": "code",
   "execution_count": 94,
   "metadata": {},
   "outputs": [],
   "source": [
    "coef_mask = [True if abs(x) > .01 else False for x in ridge.coef_]"
   ]
  },
  {
   "cell_type": "code",
   "execution_count": 95,
   "metadata": {},
   "outputs": [],
   "source": [
    "from sklearn.model_selection import train_test_split\n",
    "np.random.seed(100)  # changing the random seed can produce different scenarios which lead to exceptions\n",
    "X_train, X_test, Y_train, Y_test = train_test_split(features,price,test_size=0.2)\n",
    "ridge.set_params(normalize=False)\n",
    "ridge_scores_train = []\n",
    "ridge_scores_test  = []\n",
    "\n",
    "alphas = np.linspace(1, 3000, 100)\n",
    "\n",
    "for alpha in alphas:\n",
    "            ridge.set_params(alpha=alpha)\n",
    "            ridge.fit(features, price)\n",
    "            ridge_scores_train.append(ridge.score(X_train, Y_train))\n",
    "            ridge_scores_test.append(ridge.score(X_test, Y_test))\n",
    "ridge_scores_train = np.array(ridge_scores_train) \n",
    "ridge_scores_test  = np.array(ridge_scores_test)"
   ]
  },
  {
   "cell_type": "code",
   "execution_count": 96,
   "metadata": {},
   "outputs": [
    {
     "data": {
      "text/plain": [
       "Text(0,0.5,'$R^2$')"
      ]
     },
     "execution_count": 96,
     "metadata": {},
     "output_type": "execute_result"
    },
    {
     "data": {
      "image/png": "[encoded data removed]",
      "text/plain": [
       "<Figure size 432x288 with 1 Axes>"
      ]
     },
     "metadata": {
      "needs_background": "light"
     },
     "output_type": "display_data"
    }
   ],
   "source": [
    "plt.plot(alphas, ridge_scores_train, label=r'$train\\ R^2$')\n",
    "plt.plot(alphas, ridge_scores_test, label=r'$test\\ R^2$')\n",
    "plt.legend(loc=1)\n",
    "plt.title(r'Ridge Train-Test $R^2$ Comparison')\n",
    "ridge_underfit = ridge_scores_train < ridge_scores_test\n",
    "last_underfit  = np.max(alphas[ridge_underfit])\n",
    "plt.axvline(last_underfit, linestyle='--', color='g', label='optimal lambda', alpha=0.4)\n",
    "plt.legend(loc=1)\n",
    "plt.xlabel(r'hyperparameter $\\lambda$')\n",
    "plt.ylabel(r'$R^2$')"
   ]
  }
 ],
 "metadata": {
  "kernelspec": {
   "display_name": "Python 3",
   "language": "python",
   "name": "python3"
  },
  "language_info": {
   "codemirror_mode": {
    "name": "ipython",
    "version": 3
   },
   "file_extension": ".py",
   "mimetype": "text/x-python",
   "name": "python",
   "nbconvert_exporter": "python",
   "pygments_lexer": "ipython3",
   "version": "3.7.2"
  }
 },
 "nbformat": 4,
 "nbformat_minor": 2
}
