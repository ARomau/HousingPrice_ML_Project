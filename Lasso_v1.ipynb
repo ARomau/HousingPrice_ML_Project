{
 "cells": [
  {
   "cell_type": "code",
   "execution_count": 7,
   "metadata": {},
   "outputs": [],
   "source": [
    "#Lasso Method\n",
    "#Import Libraries\n",
    "import pandas as pd\n",
    "import numpy as np\n",
    "import matplotlib.pyplot as plt\n",
    "from sklearn.linear_model import Lasso, LassoCV\n",
    "from sklearn import datasets\n"
   ]
  },
  {
   "cell_type": "code",
   "execution_count": 8,
   "metadata": {},
   "outputs": [],
   "source": [
    "#Import Data and Extract Features and Dependend Variable\n",
    "train = pd.read_csv(\"./data/cleaned_standardized_fe.csv\")\n",
    "features = train.drop('SalePrice', axis = 1)\n",
    "price = train['SalePrice'] "
   ]
  },
  {
   "cell_type": "code",
   "execution_count": 12,
   "metadata": {},
   "outputs": [
    {
     "name": "stdout",
     "output_type": "stream",
     "text": [
      "the best alpha is: 0.01010\n",
      "the R^2 Score is: 0.91\n"
     ]
    }
   ],
   "source": [
    "#Cross Validate Lasso Model to Select Best alpha\n",
    "alphas = np.linspace(.000001, 1, 100)\n",
    "lasso_cv = LassoCV(alphas = alphas, cv = 10, max_iter = 10000, normalize = False)\n",
    "lasso_cv.fit(features,price)\n",
    "print('the best alpha is: %.5f' %(lasso_cv.alpha_))\n",
    "\n",
    "#Fit Model on complete test set using best alpha and get R^2 score and print coeficients\n",
    "lasso = Lasso()\n",
    "lasso.set_params(normalize=False)\n",
    "lasso = Lasso(alpha = lasso_cv.alpha_)\n",
    "lasso.fit(features, price)\n",
    "print('the R^2 Score is: %.2f' %(lasso.score(features, price)))\n",
    "#pd.Series(ridge.coef_, index=features.columns)"
   ]
  },
  {
   "cell_type": "code",
   "execution_count": 14,
   "metadata": {},
   "outputs": [
    {
     "data": {
      "text/html": [
       "<div>\n",
       "<style scoped>\n",
       "    .dataframe tbody tr th:only-of-type {\n",
       "        vertical-align: middle;\n",
       "    }\n",
       "\n",
       "    .dataframe tbody tr th {\n",
       "        vertical-align: top;\n",
       "    }\n",
       "\n",
       "    .dataframe thead th {\n",
       "        text-align: right;\n",
       "    }\n",
       "</style>\n",
       "<table border=\"1\" class=\"dataframe\">\n",
       "  <thead>\n",
       "    <tr style=\"text-align: right;\">\n",
       "      <th></th>\n",
       "      <th>Id</th>\n",
       "      <th>SalePrice</th>\n",
       "    </tr>\n",
       "  </thead>\n",
       "  <tbody>\n",
       "    <tr>\n",
       "      <th>0</th>\n",
       "      <td>1461</td>\n",
       "      <td>0.788115</td>\n",
       "    </tr>\n",
       "    <tr>\n",
       "      <th>1</th>\n",
       "      <td>1462</td>\n",
       "      <td>0.088210</td>\n",
       "    </tr>\n",
       "    <tr>\n",
       "      <th>2</th>\n",
       "      <td>1463</td>\n",
       "      <td>-0.328042</td>\n",
       "    </tr>\n",
       "    <tr>\n",
       "      <th>3</th>\n",
       "      <td>1464</td>\n",
       "      <td>-0.611427</td>\n",
       "    </tr>\n",
       "    <tr>\n",
       "      <th>4</th>\n",
       "      <td>1465</td>\n",
       "      <td>-0.603971</td>\n",
       "    </tr>\n",
       "  </tbody>\n",
       "</table>\n",
       "</div>"
      ],
      "text/plain": [
       "     Id  SalePrice\n",
       "0  1461   0.788115\n",
       "1  1462   0.088210\n",
       "2  1463  -0.328042\n",
       "3  1464  -0.611427\n",
       "4  1465  -0.603971"
      ]
     },
     "execution_count": 14,
     "metadata": {},
     "output_type": "execute_result"
    }
   ],
   "source": [
    "test = pd.read_csv(\"./data/cleaned_standardized_TEST.csv\")\n",
    "train_pre_stand = pd.read_csv(\"./data/train.csv\")\n",
    "submission = pd.read_csv(\"./data/sample_submission.csv\")\n",
    "sale_price_pred = lasso.predict(test)\n",
    "submission['SalePrice'] = sale_price_pred\n",
    "submission.head()"
   ]
  },
  {
   "cell_type": "code",
   "execution_count": 15,
   "metadata": {},
   "outputs": [],
   "source": [
    "#inverse transform\n",
    "from sklearn.preprocessing import StandardScaler\n",
    "#Re-Train Scaler\n",
    "scaler = StandardScaler()\n",
    "scaler = scaler.fit(train_pre_stand[['SalePrice']]**-.1)\n",
    "\n",
    "\n",
    "# inverse transform on transformed price\n",
    "submission['SalePrice'] = (scaler.inverse_transform(submission['SalePrice'])**-10).round(0)\n",
    "submission.to_csv(\"./data/lasso_submission.csv\",index = False)"
   ]
  },
  {
   "cell_type": "code",
   "execution_count": 16,
   "metadata": {},
   "outputs": [
    {
     "data": {
      "text/plain": [
       "0    121387.0\n",
       "1    159689.0\n",
       "2    188665.0\n",
       "3    211686.0\n",
       "4    211043.0\n",
       "Name: SalePrice, dtype: float64"
      ]
     },
     "execution_count": 16,
     "metadata": {},
     "output_type": "execute_result"
    }
   ],
   "source": [
    "submission['SalePrice'].head()"
   ]
  },
  {
   "cell_type": "code",
   "execution_count": 17,
   "metadata": {},
   "outputs": [
    {
     "data": {
      "text/plain": [
       "<matplotlib.axes._subplots.AxesSubplot at 0x1d836ad3940>"
      ]
     },
     "execution_count": 17,
     "metadata": {},
     "output_type": "execute_result"
    },
    {
     "data": {
      "image/png": "[encoded data removed]",
      "text/plain": [
       "<Figure size 432x288 with 1 Axes>"
      ]
     },
     "metadata": {
      "needs_background": "light"
     },
     "output_type": "display_data"
    }
   ],
   "source": [
    "submission['SalePrice'].hist()"
   ]
  },
  {
   "cell_type": "code",
   "execution_count": 18,
   "metadata": {},
   "outputs": [
    {
     "data": {
      "text/plain": [
       "array([-0.09415314,  0.        , -0.        , -0.03668841, -0.00718341,\n",
       "       -0.02973549, -0.0824261 , -0.03457695, -0.        , -0.02425695,\n",
       "       -0.04319675, -0.09252705, -0.07121654,  0.        ,  0.        ,\n",
       "       -0.01460175,  0.        ,  0.00420532, -0.00954351,  0.        ,\n",
       "       -0.04680016, -0.        ,  0.        ,  0.        ,  0.00160349,\n",
       "        0.        , -0.        ,  0.        , -0.        , -0.00317591,\n",
       "       -0.2009768 ,  0.12891821,  0.03264426, -0.00608542, -0.        ,\n",
       "        0.        ,  0.        ,  0.01058486, -0.        ,  0.00954522,\n",
       "       -0.        ,  0.01276159, -0.        , -0.        ,  0.        ,\n",
       "       -0.        ,  0.        , -0.        ,  0.        ,  0.        ,\n",
       "        0.        ,  0.        , -0.        , -0.        ,  0.        ,\n",
       "       -0.0027379 , -0.03930566, -0.01008198, -0.00107877, -0.03445464,\n",
       "        0.        , -0.2877759 , -0.        , -0.06046459,  0.        ,\n",
       "        0.00378707,  0.00303889,  0.        ,  0.00088036,  0.        ,\n",
       "        0.01097669, -0.03132594, -0.01152388, -0.04024816,  0.        ,\n",
       "        0.        ,  0.        ,  0.        , -0.        , -0.00331704,\n",
       "       -0.        , -0.        , -0.        ,  0.        ,  0.        ,\n",
       "        0.        ,  0.        ,  0.        ,  0.        ,  0.        ,\n",
       "       -0.        , -0.00428209, -0.03889802, -0.        ,  0.        ,\n",
       "       -0.03321622,  0.        , -0.        ,  0.        ,  0.00491555,\n",
       "       -0.        , -0.01228423, -0.        , -0.04356739,  0.0348175 ,\n",
       "        0.        ,  0.01581656,  0.02284453,  0.01076793,  0.        ,\n",
       "       -0.        ,  0.00243622, -0.02885365, -0.05383601,  0.03727455,\n",
       "       -0.        ,  0.        ,  0.        , -0.03242689, -0.0447824 ,\n",
       "       -0.00156591, -0.0054557 ])"
      ]
     },
     "execution_count": 18,
     "metadata": {},
     "output_type": "execute_result"
    }
   ],
   "source": [
    "lasso.coef_"
   ]
  },
  {
   "cell_type": "code",
   "execution_count": 22,
   "metadata": {},
   "outputs": [],
   "source": [
    "#Find columns of insignificance\n",
    "coef_mask = coef = [True if abs(x) > .01 else False for x in lasso.coef_]"
   ]
  }
 ],
 "metadata": {
  "kernelspec": {
   "display_name": "Python 3",
   "language": "python",
   "name": "python3"
  },
  "language_info": {
   "codemirror_mode": {
    "name": "ipython",
    "version": 3
   },
   "file_extension": ".py",
   "mimetype": "text/x-python",
   "name": "python",
   "nbconvert_exporter": "python",
   "pygments_lexer": "ipython3",
   "version": "3.7.2"
  }
 },
 "nbformat": 4,
 "nbformat_minor": 2
}
