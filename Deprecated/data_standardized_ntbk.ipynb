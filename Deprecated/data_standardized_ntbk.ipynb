{
 "cells": [
  {
   "cell_type": "code",
   "execution_count": null,
   "metadata": {},
   "outputs": [],
   "source": [
    "\n",
    "from scipy import stats\n",
    "from astropy.table import Table\n",
    "import matplotlib.pyplot as plt\n",
    "from sklearn.preprocessing import StandardScaler\n",
    "import pandas as pd\n",
    "\n",
    "\n",
    "\n",
    "\n",
    "\n",
    "###############################################################################\n",
    "############################# STANDARDIZATION #################################\n",
    "###############################################################################\n",
    "# Standardize training set\n",
    "train_fe = pd.read_csv(\"data/transformed_pre-standardized_fe.csv\")\n",
    "\n",
    "to_scale = train_fe.drop(columns = ['SalePrice'])\n",
    "colnames = to_scale.columns\n",
    "scaler = StandardScaler()\n",
    "scaler.fit(to_scale)\n",
    "scaled_features = pd.DataFrame(scaler.transform(to_scale),\n",
    "             columns = to_scale.columns)\n",
    "scaler2 = StandardScaler()\n",
    "scaler2.fit(train_fe[['SalePrice']])\n",
    "scaled_price = pd.DataFrame(scaler2.transform(train_fe[['SalePrice']]),\n",
    "                            columns = ['SalePrice'])\n",
    "\n",
    "train = pd.concat([scaled_features, scaled_price], axis = 1)\n",
    "\n",
    "\n",
    "scaled_features.to_csv(\"transformed_only_jf.csv\", index = False)\n",
    "\n",
    "# Standardize test set\n",
    "test_fe = pd.read_csv(\"data/transformed_pre-standardized_fe_TEST.csv\")\n",
    "housestyle = pd.DataFrame(np.zeros(len(train_fe)), columns = [\"HouseStyle_2.5Fin\"])\n",
    "test_fe = pd.concat([train_fe, housestyle], axis = 1)\n",
    "test_fe = train_fe.reindex(columns = colnames)\n",
    "\n",
    "test = pd.DataFrame(scaler.transform(test_fe),\n",
    "             columns = test_fe.columns)\n",
    "\n",
    "\n",
    "#scaled_features.hist(figsize=(25, 25))\n",
    "#scaled_features.to_csv(\"data/cleaned_standardized_TEST.csv\", index = False)\n"
   ]
  }
 ],
 "metadata": {
  "kernelspec": {
   "display_name": "Python 3",
   "language": "python",
   "name": "python3"
  },
  "language_info": {
   "codemirror_mode": {
    "name": "ipython",
    "version": 3
   },
   "file_extension": ".py",
   "mimetype": "text/x-python",
   "name": "python",
   "nbconvert_exporter": "python",
   "pygments_lexer": "ipython3",
   "version": "3.7.2"
  }
 },
 "nbformat": 4,
 "nbformat_minor": 2
}
