{
 "cells": [
  {
   "cell_type": "code",
   "execution_count": 2,
   "metadata": {},
   "outputs": [
    {
     "name": "stderr",
     "output_type": "stream",
     "text": [
      "C:\\Users\\Joe Fritch\\Anaconda3\\lib\\site-packages\\scipy\\stats\\_distn_infrastructure.py:879: RuntimeWarning: invalid value encountered in greater\n",
      "  return (self.a < x) & (x < self.b)\n",
      "C:\\Users\\Joe Fritch\\Anaconda3\\lib\\site-packages\\scipy\\stats\\_distn_infrastructure.py:879: RuntimeWarning: invalid value encountered in less\n",
      "  return (self.a < x) & (x < self.b)\n",
      "C:\\Users\\Joe Fritch\\Anaconda3\\lib\\site-packages\\scipy\\stats\\_distn_infrastructure.py:1821: RuntimeWarning: invalid value encountered in less_equal\n",
      "  cond2 = cond0 & (x <= self.a)\n",
      "C:\\Users\\Joe Fritch\\Anaconda3\\lib\\site-packages\\scipy\\stats\\stats.py:1408: RuntimeWarning: invalid value encountered in less\n",
      "  term2 = np.where(denom < 0, term1, np.power((1-2.0/A)/denom, 1/3.0))\n",
      "C:\\Users\\Joe Fritch\\Anaconda3\\lib\\site-packages\\scipy\\stats\\_distn_infrastructure.py:1738: RuntimeWarning: invalid value encountered in greater_equal\n",
      "  cond2 = (x >= self.b) & cond0\n",
      "C:\\Users\\Joe Fritch\\Anaconda3\\lib\\site-packages\\scipy\\stats\\morestats.py:1029: RuntimeWarning: invalid value encountered in less_equal\n",
      "  if any(x <= 0):\n"
     ]
    },
    {
     "name": "stdout",
     "output_type": "stream",
     "text": [
      "    Test name      Statistic p-value\n",
      "------------------ --------- -------\n",
      "D’Agostino-Pearson       nan     nan\n",
      "       Jarque-Bera       nan     nan\n",
      "    Test name          Statistic              p-value        \n",
      "------------------ ------------------ -----------------------\n",
      "D’Agostino-Pearson  681.2394708041672 1.1768699872361877e-148\n",
      "       Jarque-Bera 10385.661908986163                     0.0\n",
      "lambda = 8.47214\n",
      "lambda = 0.221749\n",
      "lambda = -0.076924\n"
     ]
    }
   ],
   "source": [
    "from scipy import stats\n",
    "from astropy.table import Table\n",
    "import matplotlib.pyplot as plt\n",
    "from sklearn.preprocessing import StandardScaler\n",
    "import pandas as pd\n",
    "\n",
    "train = pd.read_csv('data/dummify_fe_jf.csv')\n",
    "#Create copy for standardization\n",
    "train_fe = train.copy()\n",
    "\n",
    "###############################################################################\n",
    "########################## BOX-COX TRANSFORMATIONS ############################\n",
    "###############################################################################\n",
    "#https://docs.scipy.org/doc/scipy/reference/generated/scipy.stats.normaltest.html\n",
    "#https://docs.scipy.org/doc/scipy/reference/generated/scipy.stats.jarque_bera.html\n",
    "#http://dataunderthehood.com/2018/01/15/box-cox-transformation-with-python/\n",
    "def normtesttab(x):\n",
    "    nm_value, nm_p = stats.normaltest(x)\n",
    "    jb_value, jb_p = stats.jarque_bera(x)\n",
    "    data_rows = [('D’Agostino-Pearson', nm_value, nm_p),\n",
    "                 ('Jarque-Bera', jb_value, jb_p)]\n",
    "    t = Table(rows=data_rows, names=('Test name', 'Statistic', 'p-value'), \n",
    "              meta={'name': 'normal test table'},\n",
    "          dtype=('S25', 'f8', 'f8'))\n",
    "    print(t)\n",
    "\n",
    "normtesttab(train_fe['GarageScore'])\n",
    "normtesttab(train_fe['TotalSF'])\n",
    "#normtesttab(train_fe['SalePrice'])\n",
    "\n",
    "#https://docs.scipy.org/doc/scipy/reference/generated/scipy.stats.boxcox.html\n",
    "xt, maxlog, interval = stats.boxcox(train_fe['GarageScore'] + abs(min(train_fe['GarageScore']))+1, alpha=0.05)\n",
    "print(\"lambda = {:g}\".format(maxlog))\n",
    "# Power transform with 0.75\n",
    "train_fe['GarageScore'] = (train_fe['GarageScore'] + abs(min(train_fe['GarageScore']))+1)**0.75\n",
    "\n",
    "xt, maxlog, interval = stats.boxcox(train_fe['TotalSF'], alpha=0.05)\n",
    "print(\"lambda = {:g}\".format(maxlog))\n",
    "# Power transform with 0.25\n",
    "train_fe['TotalSF'] = (train_fe['TotalSF'] + abs(min(train_fe['TotalSF']))+1)**0.25\n",
    "\n",
    "xt, maxlog, interval = stats.boxcox(train_fe['SalePrice'], alpha=0.05)\n",
    "print(\"lambda = {:g}\".format(maxlog))\n",
    "# Power transform with -0.5\n",
    "train_fe['SalePrice'] = (train_fe['SalePrice'])**-0.1\n",
    "\n",
    "## To untransform sale price, we should raise the transformed value to -10\n",
    "\n",
    "\n",
    "train_fe.to_csv(\"data/transformed_only_jf.csv\", index = False)"
   ]
  },
  {
   "cell_type": "code",
   "execution_count": null,
   "metadata": {},
   "outputs": [],
   "source": []
  }
 ],
 "metadata": {
  "kernelspec": {
   "display_name": "Python 3",
   "language": "python",
   "name": "python3"
  },
  "language_info": {
   "codemirror_mode": {
    "name": "ipython",
    "version": 3
   },
   "file_extension": ".py",
   "mimetype": "text/x-python",
   "name": "python",
   "nbconvert_exporter": "python",
   "pygments_lexer": "ipython3",
   "version": "3.7.2"
  }
 },
 "nbformat": 4,
 "nbformat_minor": 2
}
