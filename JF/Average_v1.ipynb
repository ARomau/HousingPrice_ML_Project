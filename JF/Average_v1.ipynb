{
 "cells": [
  {
   "cell_type": "code",
   "execution_count": 8,
   "metadata": {},
   "outputs": [],
   "source": [
    "import pandas as pd\n",
    "#Average of All models\n",
    "Ridge = pd.read_csv(\"./data/ridge2_submission.csv\")\n",
    "Lasso = pd.read_csv(\"./data/lasso2_submission.csv\")\n",
    "Elastic = pd.read_csv(\"./data/elastic2_submission.csv\")\n",
    "#SVM = pd.read_csv(\"./data/svm_submission.csv\")\n",
    "XGB = pd.read_csv(\"./data/xgb2_submission.csv\")\n",
    "ensemble = pd.read_csv(\"./data/sample_submission.csv\")\n"
   ]
  },
  {
   "cell_type": "code",
   "execution_count": 9,
   "metadata": {},
   "outputs": [],
   "source": [
    "ensemble['SalePrice'] = ((.2)*Ridge['SalePrice']+.2*Lasso['SalePrice']+(.2)*Elastic['SalePrice'] +\n",
    "            (.4)*XGB['SalePrice'])\n",
    "\n",
    "ensemble.to_csv(\"./data/ensemble2_submission.csv\",index = False)"
   ]
  },
  {
   "cell_type": "code",
   "execution_count": null,
   "metadata": {},
   "outputs": [],
   "source": []
  }
 ],
 "metadata": {
  "kernelspec": {
   "display_name": "Python 3",
   "language": "python",
   "name": "python3"
  },
  "language_info": {
   "codemirror_mode": {
    "name": "ipython",
    "version": 3
   },
   "file_extension": ".py",
   "mimetype": "text/x-python",
   "name": "python",
   "nbconvert_exporter": "python",
   "pygments_lexer": "ipython3",
   "version": "3.7.2"
  }
 },
 "nbformat": 4,
 "nbformat_minor": 2
}
