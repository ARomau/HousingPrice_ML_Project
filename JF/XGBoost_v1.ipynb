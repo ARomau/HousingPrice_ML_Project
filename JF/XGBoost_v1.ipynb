{
 "cells": [
  {
   "cell_type": "code",
   "execution_count": 8,
   "metadata": {},
   "outputs": [
    {
     "name": "stdout",
     "output_type": "stream",
     "text": [
      "0.9516442898916685\n"
     ]
    }
   ],
   "source": [
    "#XGBoost Method\n",
    "#Import Libraries\n",
    "import xgboost as xg\n",
    "from sklearn.grid_search import GridSearchCV\n",
    "from sklearn.metrics import mean_squared_error, r2_score\n",
    "import pandas as pd\n",
    "import numpy as np\n",
    "\n",
    "# load data\n",
    "seed=42\n",
    "train = pd.read_csv('./data/train_clean_std_reduced.csv')\n",
    "df_test = pd.read_csv('./data/test_clean_std_reduced.csv')\n",
    "\n",
    "X = train.drop('SalePrice', axis = 1)\n",
    "y = train['SalePrice'] \n",
    "X_test = df_test\n",
    "\n",
    "\n",
    "################################################\n",
    "#GridSearchCV for XgBoost using scikit learn XGBoostRegreesor API:\n",
    "\n",
    "# A parameter grid for XGBoost\n",
    "params = {\n",
    "    'min_child_weight':[4,5], \n",
    "    'gamma':[i/10.0 for i in range(3,6)], \n",
    "    'subsample':[i/10.0 for i in range(6,11)],\n",
    "    'colsample_bytree':[i/10.0 for i in range(6,11)], \n",
    "    'max_depth': [2,3,4]}\n",
    "\n",
    "# Initialize XGB and GridSearch\n",
    "xgb = xg.XGBRegressor(nthread=-1)\n",
    "grid = GridSearchCV(xgb, params)\n",
    "grid.fit(X, y)\n",
    "\n",
    "# Print the r2 score\n",
    "print(r2_score(y, grid.best_estimator_.predict(X)))\n",
    "\n",
    "\n"
   ]
  },
  {
   "cell_type": "code",
   "execution_count": 9,
   "metadata": {},
   "outputs": [
    {
     "name": "stdout",
     "output_type": "stream",
     "text": [
      "0.9516442898916685\n"
     ]
    }
   ],
   "source": [
    "# Print the r2 score\n",
    "print(r2_score(y, grid.best_estimator_.predict(X)))"
   ]
  },
  {
   "cell_type": "code",
   "execution_count": 10,
   "metadata": {},
   "outputs": [
    {
     "data": {
      "text/html": [
       "<div>\n",
       "<style scoped>\n",
       "    .dataframe tbody tr th:only-of-type {\n",
       "        vertical-align: middle;\n",
       "    }\n",
       "\n",
       "    .dataframe tbody tr th {\n",
       "        vertical-align: top;\n",
       "    }\n",
       "\n",
       "    .dataframe thead th {\n",
       "        text-align: right;\n",
       "    }\n",
       "</style>\n",
       "<table border=\"1\" class=\"dataframe\">\n",
       "  <thead>\n",
       "    <tr style=\"text-align: right;\">\n",
       "      <th></th>\n",
       "      <th>Id</th>\n",
       "      <th>SalePrice</th>\n",
       "    </tr>\n",
       "  </thead>\n",
       "  <tbody>\n",
       "    <tr>\n",
       "      <th>0</th>\n",
       "      <td>1461</td>\n",
       "      <td>-0.766545</td>\n",
       "    </tr>\n",
       "    <tr>\n",
       "      <th>1</th>\n",
       "      <td>1462</td>\n",
       "      <td>-0.078494</td>\n",
       "    </tr>\n",
       "    <tr>\n",
       "      <th>2</th>\n",
       "      <td>1463</td>\n",
       "      <td>0.202180</td>\n",
       "    </tr>\n",
       "    <tr>\n",
       "      <th>3</th>\n",
       "      <td>1464</td>\n",
       "      <td>0.339354</td>\n",
       "    </tr>\n",
       "    <tr>\n",
       "      <th>4</th>\n",
       "      <td>1465</td>\n",
       "      <td>0.413526</td>\n",
       "    </tr>\n",
       "  </tbody>\n",
       "</table>\n",
       "</div>"
      ],
      "text/plain": [
       "     Id  SalePrice\n",
       "0  1461  -0.766545\n",
       "1  1462  -0.078494\n",
       "2  1463   0.202180\n",
       "3  1464   0.339354\n",
       "4  1465   0.413526"
      ]
     },
     "execution_count": 10,
     "metadata": {},
     "output_type": "execute_result"
    }
   ],
   "source": [
    "test = pd.read_csv(\"./data/test_clean_std_full.csv\")\n",
    "train_pre_stand = pd.read_csv(\"./data/train.csv\")\n",
    "submission = pd.read_csv(\"./data/sample_submission.csv\")\n",
    "sale_price_pred = grid.best_estimator_.predict(X_test)\n",
    "submission['SalePrice'] = sale_price_pred\n",
    "submission.head()"
   ]
  },
  {
   "cell_type": "code",
   "execution_count": 11,
   "metadata": {},
   "outputs": [],
   "source": [
    "#inverse transform\n",
    "from sklearn.preprocessing import StandardScaler\n",
    "#Re-Train Scaler\n",
    "scaler = StandardScaler()\n",
    "scaler = scaler.fit(np.log(train_pre_stand[['SalePrice']]))\n",
    "\n",
    "\n",
    "# inverse transform on transformed price\n",
    "submission['SalePrice'] = (np.exp(scaler.inverse_transform(submission['SalePrice']))).round(1)\n",
    "submission.to_csv(\"./data/xgb2_submission.csv\",index = False)"
   ]
  },
  {
   "cell_type": "code",
   "execution_count": 12,
   "metadata": {},
   "outputs": [
    {
     "data": {
      "text/plain": [
       "0    122756.398438\n",
       "1    161572.203125\n",
       "2    180734.593750\n",
       "3    190910.500000\n",
       "4    196649.593750\n",
       "Name: SalePrice, dtype: float32"
      ]
     },
     "execution_count": 12,
     "metadata": {},
     "output_type": "execute_result"
    }
   ],
   "source": [
    "submission['SalePrice'].head()"
   ]
  },
  {
   "cell_type": "code",
   "execution_count": 13,
   "metadata": {},
   "outputs": [
    {
     "data": {
      "text/plain": [
       "<matplotlib.axes._subplots.AxesSubplot at 0x1c0df1ded68>"
      ]
     },
     "execution_count": 13,
     "metadata": {},
     "output_type": "execute_result"
    },
    {
     "data": {
      "image/png": "[encoded data removed]",
      "text/plain": [
       "<Figure size 432x288 with 1 Axes>"
      ]
     },
     "metadata": {
      "needs_background": "light"
     },
     "output_type": "display_data"
    }
   ],
   "source": [
    "train_pre_stand['SalePrice'].hist()\n",
    "submission['SalePrice'].hist()"
   ]
  },
  {
   "cell_type": "code",
   "execution_count": null,
   "metadata": {},
   "outputs": [],
   "source": []
  }
 ],
 "metadata": {
  "kernelspec": {
   "display_name": "Python 3",
   "language": "python",
   "name": "python3"
  },
  "language_info": {
   "codemirror_mode": {
    "name": "ipython",
    "version": 3
   },
   "file_extension": ".py",
   "mimetype": "text/x-python",
   "name": "python",
   "nbconvert_exporter": "python",
   "pygments_lexer": "ipython3",
   "version": "3.7.2"
  }
 },
 "nbformat": 4,
 "nbformat_minor": 2
}
