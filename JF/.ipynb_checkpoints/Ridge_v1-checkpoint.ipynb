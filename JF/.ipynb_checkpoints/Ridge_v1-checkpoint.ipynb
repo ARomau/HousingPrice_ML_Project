{
 "cells": [
  {
   "cell_type": "code",
   "execution_count": 1,
   "metadata": {},
   "outputs": [],
   "source": [
    "#Ridge Method\n",
    "#Import Libraries\n",
    "import pandas as pd\n",
    "import numpy as np\n",
    "import matplotlib.pyplot as plt\n",
    "from sklearn.linear_model import Ridge, RidgeCV\n",
    "from sklearn import datasets\n",
    " "
   ]
  },
  {
   "cell_type": "code",
   "execution_count": 2,
   "metadata": {},
   "outputs": [],
   "source": [
    "#Import Data and Extract Features and Dependend Variable\n",
    "train = pd.read_csv('./data/train_clean_std_reduced.csv')\n",
    "features = train.drop('SalePrice', axis = 1)\n",
    "price = train['SalePrice'] "
   ]
  },
  {
   "cell_type": "code",
   "execution_count": 3,
   "metadata": {},
   "outputs": [
    {
     "name": "stdout",
     "output_type": "stream",
     "text": [
      "the best alpha is: 162.45\n",
      "the R^2 Score is: 0.94\n"
     ]
    }
   ],
   "source": [
    "#Cross Validate Ridge Model to Select Best alpha\n",
    "alphas = np.linspace(1, 1000, 100)\n",
    "ridge_cv = RidgeCV(alphas = alphas, cv = 5, normalize = False)\n",
    "ridge_cv.fit(features,price)\n",
    "print('the best alpha is: %.2f' %(ridge_cv.alpha_))\n",
    "\n",
    "#Fit Model on complete test set using best alpha and get R^2 score and print coeficients\n",
    "ridge = Ridge()\n",
    "ridge.set_params(normalize=False)\n",
    "ridge = Ridge(alpha = ridge_cv.alpha_)\n",
    "ridge.fit(features, price)\n",
    "print('the R^2 Score is: %.2f' %(ridge.score(features, price)))\n",
    "#pd.Series(ridge.coef_, index=features.columns)"
   ]
  },
  {
   "cell_type": "code",
   "execution_count": 5,
   "metadata": {},
   "outputs": [
    {
     "data": {
      "text/html": [
       "<div>\n",
       "<style scoped>\n",
       "    .dataframe tbody tr th:only-of-type {\n",
       "        vertical-align: middle;\n",
       "    }\n",
       "\n",
       "    .dataframe tbody tr th {\n",
       "        vertical-align: top;\n",
       "    }\n",
       "\n",
       "    .dataframe thead th {\n",
       "        text-align: right;\n",
       "    }\n",
       "</style>\n",
       "<table border=\"1\" class=\"dataframe\">\n",
       "  <thead>\n",
       "    <tr style=\"text-align: right;\">\n",
       "      <th></th>\n",
       "      <th>Id</th>\n",
       "      <th>SalePrice</th>\n",
       "    </tr>\n",
       "  </thead>\n",
       "  <tbody>\n",
       "    <tr>\n",
       "      <th>0</th>\n",
       "      <td>1461</td>\n",
       "      <td>-0.791149</td>\n",
       "    </tr>\n",
       "    <tr>\n",
       "      <th>1</th>\n",
       "      <td>1462</td>\n",
       "      <td>-0.148536</td>\n",
       "    </tr>\n",
       "    <tr>\n",
       "      <th>2</th>\n",
       "      <td>1463</td>\n",
       "      <td>0.176412</td>\n",
       "    </tr>\n",
       "    <tr>\n",
       "      <th>3</th>\n",
       "      <td>1464</td>\n",
       "      <td>0.418111</td>\n",
       "    </tr>\n",
       "    <tr>\n",
       "      <th>4</th>\n",
       "      <td>1465</td>\n",
       "      <td>0.446882</td>\n",
       "    </tr>\n",
       "  </tbody>\n",
       "</table>\n",
       "</div>"
      ],
      "text/plain": [
       "     Id  SalePrice\n",
       "0  1461  -0.791149\n",
       "1  1462  -0.148536\n",
       "2  1463   0.176412\n",
       "3  1464   0.418111\n",
       "4  1465   0.446882"
      ]
     },
     "execution_count": 5,
     "metadata": {},
     "output_type": "execute_result"
    }
   ],
   "source": [
    "test = pd.read_csv('./data/test_clean_std_reduced.csv')\n",
    "train_pre_stand = pd.read_csv(\"./data/train.csv\")\n",
    "submission = pd.read_csv(\"./data/sample_submission.csv\")\n",
    "sale_price_pred = ridge.predict(test)\n",
    "submission['SalePrice'] = sale_price_pred\n",
    "submission.head()"
   ]
  },
  {
   "cell_type": "code",
   "execution_count": 6,
   "metadata": {},
   "outputs": [],
   "source": [
    "#inverse transform\n",
    "from sklearn.preprocessing import StandardScaler\n",
    "#Re-Train Scaler\n",
    "scaler = StandardScaler()\n",
    "scaler = scaler.fit(np.log(train_pre_stand[['SalePrice']]))\n",
    "\n",
    "\n",
    "# inverse transform on transformed price\n",
    "submission['SalePrice'] = (np.exp(scaler.inverse_transform(submission['SalePrice']))).round(1)\n",
    "submission.to_csv(\"./data/ridge2_submission.csv\",index = False)"
   ]
  },
  {
   "cell_type": "code",
   "execution_count": 7,
   "metadata": {},
   "outputs": [
    {
     "data": {
      "text/plain": [
       "0    121556.4\n",
       "1    157115.7\n",
       "2    178884.4\n",
       "3    197009.8\n",
       "4    199286.2\n",
       "Name: SalePrice, dtype: float64"
      ]
     },
     "execution_count": 7,
     "metadata": {},
     "output_type": "execute_result"
    }
   ],
   "source": [
    "submission['SalePrice'].head()\n"
   ]
  },
  {
   "cell_type": "code",
   "execution_count": 9,
   "metadata": {},
   "outputs": [
    {
     "data": {
      "text/plain": [
       "<matplotlib.axes._subplots.AxesSubplot at 0x18ff6b257b8>"
      ]
     },
     "execution_count": 9,
     "metadata": {},
     "output_type": "execute_result"
    },
    {
     "data": {
      "image/png": "[encoded data removed]",
      "text/plain": [
       "<Figure size 432x288 with 1 Axes>"
      ]
     },
     "metadata": {
      "needs_background": "light"
     },
     "output_type": "display_data"
    }
   ],
   "source": [
    "train_pre_stand['SalePrice'].hist()\n",
    "submission['SalePrice'].hist()"
   ]
  },
  {
   "cell_type": "code",
   "execution_count": null,
   "metadata": {},
   "outputs": [],
   "source": []
  },
  {
   "cell_type": "code",
   "execution_count": 10,
   "metadata": {},
   "outputs": [
    {
     "data": {
      "text/plain": [
       "array([ 2.23343927e-02,  7.28455501e-02,  1.28058410e-01,  8.42175821e-02,\n",
       "        6.64048975e-02,  3.99858903e-02,  2.30850856e-02,  2.08354743e-02,\n",
       "       -7.54031620e-03,  3.73924118e-02,  9.01255637e-03,  3.12055558e-02,\n",
       "        1.34549874e-01, -7.55145129e-03, -2.64274376e-02,  3.66565650e-02,\n",
       "        3.71005792e-02,  3.23411755e-02,  1.79622067e-02, -2.50257918e-03,\n",
       "        4.06160551e-02,  4.75625588e-02,  2.62325937e-02,  8.55581058e-03,\n",
       "        1.27491409e-02,  7.77085176e-03,  3.67467469e-03,  2.19568825e-02,\n",
       "        1.85830775e-02, -1.02755443e-02, -3.13926632e-02, -3.30940392e-03,\n",
       "       -1.26253842e-02, -7.32777670e-04,  9.27970722e-04,  1.26350776e-02,\n",
       "       -2.69411195e-03, -6.40942253e-03, -1.19575870e-03, -1.95293965e-03,\n",
       "       -3.02206648e-03,  0.00000000e+00, -2.26592382e-02, -4.04022362e-03,\n",
       "       -5.07666033e-03,  3.41565121e-02,  1.48010280e-02,  5.01060082e-02,\n",
       "        2.17792983e-02,  2.13609538e-02,  1.00300246e-03,  1.35900754e-02,\n",
       "        6.68953068e-03, -1.45135340e-04,  2.58035250e-03,  6.52207103e-04,\n",
       "       -1.55237973e-02, -3.39103421e-03, -1.38268618e-02,  1.82979586e-02,\n",
       "       -1.46051392e-02, -7.62618047e-03, -1.04602563e-02,  5.66032268e-03,\n",
       "       -1.74370837e-02,  1.88415412e-03,  2.09771532e-03,  1.49265141e-02,\n",
       "        6.65021030e-03, -6.02380076e-03,  4.70799499e-02, -2.86829118e-02,\n",
       "       -1.12301234e-02, -3.33124172e-02, -3.01607204e-02, -1.39374369e-02,\n",
       "       -1.40518506e-02,  7.06236796e-03, -1.32659183e-02,  2.35685998e-02,\n",
       "        4.24821685e-02, -2.53960326e-02,  1.01689525e-03, -4.31224307e-03,\n",
       "       -9.76314916e-04,  1.91431871e-02,  4.45203028e-02,  2.67908395e-03,\n",
       "        9.39580963e-03, -5.09263023e-04,  4.18604798e-02,  3.05279739e-03,\n",
       "        1.43916516e-02, -1.12221069e-02,  6.59700285e-03, -1.72259558e-03,\n",
       "        9.36348464e-03,  5.22145540e-03,  1.40652457e-02,  1.20081025e-02,\n",
       "       -2.94550249e-03, -1.39640619e-02,  1.78902781e-04,  4.90152591e-03,\n",
       "        4.33868421e-04, -1.95293965e-03, -1.45654527e-02, -1.37957037e-02,\n",
       "        1.54121019e-02,  2.98331875e-03, -6.46661996e-03,  6.90545996e-03,\n",
       "       -5.69383861e-03, -2.97728318e-03,  5.88899920e-03, -9.35440410e-03,\n",
       "       -1.21005893e-02,  5.49186318e-03,  8.07315268e-03,  2.01526876e-02,\n",
       "       -5.35215595e-03,  1.39821862e-02,  7.71231371e-03, -5.50127709e-03,\n",
       "       -4.57000976e-03, -8.17305195e-03,  1.73702995e-02, -3.09769913e-03,\n",
       "       -2.21716160e-02,  3.37179759e-02, -1.89943486e-03,  2.99876255e-03,\n",
       "       -6.67343352e-03,  1.72859802e-03,  1.32655589e-02,  9.07084532e-06,\n",
       "        6.34486728e-03,  6.64485759e-03,  3.39765743e-03, -1.94525081e-02,\n",
       "        8.04712871e-04,  4.48031286e-03,  6.62730351e-03, -1.50956719e-02,\n",
       "       -1.89943486e-03,  1.33707001e-02, -1.31366220e-03,  2.70364177e-03,\n",
       "        5.99554429e-04, -4.60014389e-03, -5.16988414e-03, -5.73184157e-03,\n",
       "       -6.13865551e-03,  2.77274866e-03,  1.41647476e-02, -5.47124089e-03,\n",
       "        1.28826535e-03, -3.95002117e-03,  4.05244351e-03,  2.10856396e-02,\n",
       "        5.12352034e-03,  3.31385040e-02,  1.99218995e-03,  3.59109890e-03,\n",
       "       -7.98267656e-03,  3.71837934e-02, -8.09271394e-03,  3.44600064e-03,\n",
       "       -1.47140862e-02, -4.42151171e-03,  2.05086409e-02, -7.66269144e-03,\n",
       "        3.44600064e-03, -8.65154876e-03, -4.12503457e-02, -1.74090571e-02,\n",
       "        5.08489902e-03, -2.65741030e-03,  3.44600064e-03, -6.68796167e-03,\n",
       "       -4.89632396e-03,  3.61806774e-03,  1.63751663e-02, -1.90174158e-02,\n",
       "       -2.83940432e-03,  6.85391989e-03,  4.40677956e-02,  2.51464737e-03,\n",
       "        1.54929132e-03,  5.91003653e-03, -6.44930176e-03,  1.65156782e-01,\n",
       "        6.88449397e-02, -2.82251637e-02,  3.07451967e-03, -1.87777079e-03,\n",
       "       -1.62084750e-02, -1.54299387e-02,  2.61334897e-02,  7.00604349e-03,\n",
       "       -3.62046874e-03,  7.90268493e-03, -8.99044460e-03,  2.33151995e-03,\n",
       "        3.99729898e-03,  3.99729898e-03, -1.00158451e-02, -1.89038684e-02,\n",
       "        2.73058300e-03,  2.03918473e-02,  2.21893794e-02,  1.41144179e-03,\n",
       "       -9.65922706e-03,  4.94891035e-03, -3.53962224e-03,  7.85749975e-03,\n",
       "       -3.69744981e-03, -7.54912459e-04,  4.75066168e-03,  1.23425761e-02,\n",
       "        6.08501664e-03,  2.28366302e-03, -1.06071314e-03, -1.90217634e-03,\n",
       "       -5.50366855e-03, -5.75114707e-03,  1.11187917e-03,  8.75059214e-03,\n",
       "        8.36491407e-03,  8.70630235e-03, -4.13104701e-03,  8.06808322e-05,\n",
       "        3.49265333e-02,  4.52749069e-03, -8.39239163e-03,  8.15825001e-03,\n",
       "        6.51028367e-03, -1.19690995e-03,  5.28345633e-02,  2.91320292e-02])"
      ]
     },
     "execution_count": 10,
     "metadata": {},
     "output_type": "execute_result"
    }
   ],
   "source": [
    "ridge.coef_"
   ]
  },
  {
   "cell_type": "code",
   "execution_count": null,
   "metadata": {},
   "outputs": [],
   "source": []
  }
 ],
 "metadata": {
  "kernelspec": {
   "display_name": "Python 3",
   "language": "python",
   "name": "python3"
  },
  "language_info": {
   "codemirror_mode": {
    "name": "ipython",
    "version": 3
   },
   "file_extension": ".py",
   "mimetype": "text/x-python",
   "name": "python",
   "nbconvert_exporter": "python",
   "pygments_lexer": "ipython3",
   "version": "3.7.2"
  }
 },
 "nbformat": 4,
 "nbformat_minor": 2
}
